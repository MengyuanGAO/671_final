{
 "cells": [
  {
   "cell_type": "code",
   "execution_count": 41,
   "metadata": {},
   "outputs": [],
   "source": [
    "import numpy as np\n",
    "import pandas as pd\n",
    "from sklearn.ensemble import RandomForestRegressor\n",
    "from sklearn.linear_model import LinearRegression\n",
    "from sklearn.cross_validation import cross_val_score\n",
    "from sklearn.preprocessing import LabelEncoder"
   ]
  },
  {
   "cell_type": "code",
   "execution_count": 35,
   "metadata": {},
   "outputs": [
    {
     "name": "stdout",
     "output_type": "stream",
     "text": [
      "reading train and test data\n"
     ]
    },
    {
     "name": "stderr",
     "output_type": "stream",
     "text": [
      "/anaconda3/lib/python3.6/site-packages/IPython/core/interactiveshell.py:2785: DtypeWarning: Columns (22,32,34,49,55) have mixed types. Specify dtype option on import or set low_memory=False.\n",
      "  interactivity=interactivity, compiler=compiler, result=result)\n"
     ]
    }
   ],
   "source": [
    "print('reading train and test data')\n",
    "#id and 57 predictor columns such as number of bedrooms and stufff like that\n",
    "properties = pd.read_csv('data/properties_2016.csv')\n",
    "\n",
    "#train has the logerror, a parcelid and a transaction date\n",
    "train = pd.read_csv('data/train_2016_v2.csv')\n",
    "\n",
    "#read in the test_ids needed for submission\n",
    "test_ids = pd.read_csv('data/sample_submission.csv')"
   ]
  },
  {
   "cell_type": "code",
   "execution_count": 36,
   "metadata": {},
   "outputs": [],
   "source": [
    "#fill median for numeric columns\n",
    "for c in properties.dtypes[properties.dtypes == 'float64'].index.values:\n",
    "    properties[c].fillna(properties[c].median(skipna=True), inplace = True)\n",
    "    \n",
    "#fill -1 for categorical columns\n",
    "for c in properties.columns:\n",
    "    properties[c]=properties[c].fillna(-1)\n",
    "    if properties[c].dtype == object:\n",
    "        lbl = LabelEncoder()\n",
    "        lbl.fit(list(properties[c].values))\n",
    "        properties[c] = lbl.transform(list(properties[c].values))"
   ]
  },
  {
   "cell_type": "code",
   "execution_count": 45,
   "metadata": {},
   "outputs": [],
   "source": [
    "#merge the training data with the properties\n",
    "train_df = train.merge(properties, how='left', on='parcelid')\n",
    "\n",
    "#drop the id from the test dataframe\n",
    "x_test = properties.drop(['parcelid'], axis=1)\n",
    "\n",
    "#drop id, data and logerror(response) from the df to make the training df\n",
    "x_train = train_df.drop(['parcelid', 'logerror','transactiondate'], axis=1)\n",
    "\n",
    "#retrieve just the logerror of the training set\n",
    "y_train = train_df[\"logerror\"].values.astype(np.float32)"
   ]
  },
  {
   "cell_type": "code",
   "execution_count": 46,
   "metadata": {},
   "outputs": [],
   "source": [
    "#######\n",
    "# turn the general pandas dataframes into numpy arrays for use in the random forest regressions\n",
    "#######\n",
    "x_train = x_train.values.astype(np.float32, copy=False)\n",
    "x_test = x_test.values.astype(np.float32, copy=False)\n",
    "z_rf = RandomForestRegressor(max_depth= 8, n_estimators = 100)\n",
    "# z_rf = LinearRegression()\n",
    "\n",
    "z_rf.fit(x_train, y_train)\n",
    "\n",
    "rf_y_test = z_rf.predict(x_test)"
   ]
  },
  {
   "cell_type": "code",
   "execution_count": 56,
   "metadata": {},
   "outputs": [
    {
     "data": {
      "text/plain": [
       "57"
      ]
     },
     "execution_count": 56,
     "metadata": {},
     "output_type": "execute_result"
    }
   ],
   "source": []
  },
  {
   "cell_type": "code",
   "execution_count": 59,
   "metadata": {},
   "outputs": [
    {
     "data": {
      "text/plain": [
       "[('structuretaxvaluedollarcnt', 0.11702571582213393),\n",
       " ('taxamount', 0.08936513623159062),\n",
       " ('taxvaluedollarcnt', 0.08679662240983137),\n",
       " ('finishedsquarefeet12', 0.08361748820772004),\n",
       " ('lotsizesquarefeet', 0.07215855247336864),\n",
       " ('longitude', 0.0604218990309166),\n",
       " ('latitude', 0.05890929486567658),\n",
       " ('calculatedfinishedsquarefeet', 0.0543917378848465),\n",
       " ('yearbuilt', 0.05158051296576212),\n",
       " ('landtaxvaluedollarcnt', 0.04366744792248092),\n",
       " ('regionidzip', 0.04187563240604183),\n",
       " ('rawcensustractandblock', 0.022534523382400487),\n",
       " ('propertyzoningdesc', 0.01856541886978537),\n",
       " ('regionidcity', 0.017914108223547026),\n",
       " ('bedroomcnt', 0.016582804648357576),\n",
       " ('censustractandblock', 0.015373892583787248),\n",
       " ('bathroomcnt', 0.014629823018366439),\n",
       " ('regionidneighborhood', 0.01217653133842616),\n",
       " ('buildingqualitytypeid', 0.01155659239886758),\n",
       " ('propertycountylandusecode', 0.011279140152263403),\n",
       " ('propertylandusetypeid', 0.009862826646055034),\n",
       " ('fullbathcnt', 0.008853813213945209),\n",
       " ('finishedfloor1squarefeet', 0.008187148087574115),\n",
       " ('finishedsquarefeet15', 0.008181409767085314),\n",
       " ('taxdelinquencyyear', 0.007789294888408051),\n",
       " ('calculatedbathnbr', 0.007471977126675608),\n",
       " ('garagetotalsqft', 0.007379991870603789),\n",
       " ('finishedsquarefeet6', 0.005147751857184709),\n",
       " ('heatingorsystemtypeid', 0.005081980339582312),\n",
       " ('finishedsquarefeet50', 0.004643847205026391),\n",
       " ('airconditioningtypeid', 0.0038618877641301004),\n",
       " ('numberofstories', 0.0036539257999200925),\n",
       " ('unitcnt', 0.0035174111590503053),\n",
       " ('yardbuildingsqft17', 0.003106821568295385),\n",
       " ('taxdelinquencyflag', 0.002267008282086422),\n",
       " ('hashottuborspa', 0.0018672609987519595),\n",
       " ('garagecarcnt', 0.0017169045054328052),\n",
       " ('threequarterbathnbr', 0.001648230738170847),\n",
       " ('fips', 0.0014289077303480725),\n",
       " ('roomcnt', 0.0013912026332709609),\n",
       " ('basementsqft', 0.000967096183469609),\n",
       " ('regionidcounty', 0.0008553271878695944),\n",
       " ('fireplacecnt', 0.0005243135584255222),\n",
       " ('yardbuildingsqft26', 0.00013203771293501503),\n",
       " ('poolsizesum', 3.728839636401134e-05),\n",
       " ('finishedsquarefeet13', 1.4599431683818114e-06),\n",
       " ('architecturalstyletypeid', 0.0),\n",
       " ('buildingclasstypeid', 0.0),\n",
       " ('decktypeid', 0.0),\n",
       " ('poolcnt', 0.0),\n",
       " ('pooltypeid10', 0.0),\n",
       " ('pooltypeid2', 0.0),\n",
       " ('pooltypeid7', 0.0),\n",
       " ('storytypeid', 0.0),\n",
       " ('typeconstructiontypeid', 0.0),\n",
       " ('fireplaceflag', 0.0),\n",
       " ('assessmentyear', 0.0)]"
      ]
     },
     "execution_count": 59,
     "metadata": {},
     "output_type": "execute_result"
    }
   ],
   "source": [
    "temp = list(zip(train_df.drop(['parcelid', 'logerror','transactiondate'], axis=1).columns, z_rf.feature_importances_))\n",
    "sorted(temp, key=lambda x: x[1], reverse=True)"
   ]
  },
  {
   "cell_type": "code",
   "execution_count": null,
   "metadata": {},
   "outputs": [],
   "source": [
    "\"\"\"\n",
    "#uncomment this section and run locally in order to optimize the paramaters, you can add others as well.\n",
    "from sklearn.model_selection import GridSearchCV\n",
    "#set the paramater dict to try\n",
    "param_grid = {\n",
    "                 'n_estimators': [500, 1000, 1500, 2000],\n",
    "                 'max_depth': [5, 7, 9]\n",
    "             }\n",
    "             \n",
    "grid = GridSearchCV(z_rf, param_grid, cv=10)\n",
    "\n",
    "grid.fit(x_train, y_train)\n",
    "\n",
    "print(grid.best_score_)\n",
    "print(grid.best_params_)\n",
    "\"\"\""
   ]
  },
  {
   "cell_type": "code",
   "execution_count": 47,
   "metadata": {},
   "outputs": [],
   "source": [
    "test_columns = ['201610','201611','201612','201710','201711','201712']\n",
    "\n",
    "for i in test_columns:\n",
    "    test_ids[i] = [float(format(house, '.4f')) for house in rf_y_test]\n",
    "    \n",
    "test_ids.to_csv('cam_rf_model_component.csv', index=False)"
   ]
  }
 ],
 "metadata": {
  "kernelspec": {
   "display_name": "Python 3",
   "language": "python",
   "name": "python3"
  },
  "language_info": {
   "codemirror_mode": {
    "name": "ipython",
    "version": 3
   },
   "file_extension": ".py",
   "mimetype": "text/x-python",
   "name": "python",
   "nbconvert_exporter": "python",
   "pygments_lexer": "ipython3",
   "version": "3.6.5"
  }
 },
 "nbformat": 4,
 "nbformat_minor": 2
}
